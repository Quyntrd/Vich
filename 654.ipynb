{
 "cells": [
  {
   "cell_type": "code",
   "execution_count": 2,
   "metadata": {},
   "outputs": [],
   "source": [
    "import numpy as np\n",
    "import pandas as pd\n",
    "from scipy.linalg import lu"
   ]
  },
  {
   "cell_type": "code",
   "execution_count": 3,
   "metadata": {},
   "outputs": [
    {
     "name": "stdout",
     "output_type": "stream",
     "text": [
      "Задача 1: Решение системы AX = B с нижнетреугольной матрицей\n",
      "Матрица A:\n",
      " [[1.20323032 0.         0.         0.         0.        ]\n",
      " [4.04076632 8.25105647 0.         0.         0.        ]\n",
      " [3.35584709 4.89623188 5.90485875 0.         0.        ]\n",
      " [5.75820682 5.23008516 2.90692036 1.19769238 0.        ]\n",
      " [1.95603644 7.0026782  6.09370189 1.255974   9.76944583]]\n",
      "Вектор B:\n",
      " [7.01813608 0.13922866 9.17598056 8.46641486 3.62596472]\n",
      "Решение X:\n",
      " [  5.83274536  -2.83957969   0.59365003 -10.01441542   2.15589343]\n"
     ]
    }
   ],
   "source": [
    "A = np.tril(np.random.rand(5, 5) * 10)  # Нижнетреугольная матрица\n",
    "B = np.random.rand(5) * 10  # Вектор B\n",
    "X = np.linalg.solve(A, B)\n",
    "\n",
    "print(\"Задача 1: Решение системы AX = B с нижнетреугольной матрицей\")\n",
    "print(\"Матрица A:\\n\", A)\n",
    "print(\"Вектор B:\\n\", B)\n",
    "print(\"Решение X:\\n\", X)"
   ]
  },
  {
   "cell_type": "code",
   "execution_count": 4,
   "metadata": {},
   "outputs": [
    {
     "name": "stdout",
     "output_type": "stream",
     "text": [
      "Задача 2: Решение системы методом LU-разложения\n",
      "Решение X:\n",
      " [ 0.34261045  0.44394439  0.17387099 -0.82822646]\n"
     ]
    }
   ],
   "source": [
    "A = np.array([\n",
    "    [8.2, -3.2, 14.2, 14.8],\n",
    "    [5.6, -12, 15, -6.4],\n",
    "    [5.7, 3.6, -12.4, -2.3],\n",
    "    [6.8, 13.2, -6.3, -8.7]\n",
    "])\n",
    "B = np.array([-8.4, 4.5, 3.3, 14.3])\n",
    "    \n",
    "P, L, U = lu(A)\n",
    "Y = np.linalg.solve(L, np.dot(P, B))\n",
    "X = np.linalg.solve(U, Y)\n",
    "    \n",
    "print(\"Задача 2: Решение системы методом LU-разложения\")\n",
    "print(\"Решение X:\\n\", X)"
   ]
  },
  {
   "cell_type": "code",
   "execution_count": 5,
   "metadata": {},
   "outputs": [],
   "source": [
    "# Задача 3: Решение системы QR-разложением методом Грама-Шмидта\n",
    "def gramschmidt(A):\n",
    "    m, n = A.shape\n",
    "    Q = np.zeros((m, n))\n",
    "    R = np.zeros((n, n))\n",
    "    \n",
    "    for j in range(n):\n",
    "        v = A[:, j]\n",
    "        for i in range(j):\n",
    "            R[i, j] = np.dot(Q[:, i], A[:, j])\n",
    "            v = v - R[i, j] * Q[:, i]\n",
    "        R[j, j] = np.linalg.norm(v)\n",
    "        Q[:, j] = v / R[j, j]\n",
    "    return Q, R"
   ]
  },
  {
   "cell_type": "code",
   "execution_count": 6,
   "metadata": {},
   "outputs": [
    {
     "name": "stdout",
     "output_type": "stream",
     "text": [
      "Задача 3: Решение системы методом QR-разложения\n",
      "Решение X:\n",
      " [ 0.34261045  0.44394439  0.17387099 -0.82822646]\n",
      "Проверка решения (AX):\n",
      " [-8.4  4.5  3.3 14.3]\n",
      "Решение через np.linalg.solve:\n",
      " [ 0.34261045  0.44394439  0.17387099 -0.82822646]\n"
     ]
    }
   ],
   "source": [
    "A = np.array([\n",
    "    [8.2, -3.2, 14.2, 14.8],\n",
    "    [5.6, -12, 15, -6.4],\n",
    "    [5.7, 3.6, -12.4, -2.3],\n",
    "    [6.8, 13.2, -6.3, -8.7]\n",
    "])\n",
    "B = np.array([-8.4, 4.5, 3.3, 14.3])\n",
    "Q, R = gramschmidt(A)\n",
    "Y = np.dot(Q.T, B)\n",
    "X_qr = np.linalg.solve(R, Y)\n",
    "\n",
    "print(\"Задача 3: Решение системы методом QR-разложения\")\n",
    "print(\"Решение X:\\n\", X_qr)\n",
    "print(\"Проверка решения (AX):\\n\", np.dot(A, X_qr))\n",
    "print(\"Решение через np.linalg.solve:\\n\", np.linalg.solve(A, B))"
   ]
  },
  {
   "cell_type": "code",
   "execution_count": 7,
   "metadata": {},
   "outputs": [],
   "source": [
    "# Задача 4: Решение методом простых итераций\n",
    "def simple_iterations(A, B, tol=1e-3, max_iter=100):\n",
    "    n = len(B)\n",
    "    X = np.zeros(n)\n",
    "    table = []\n",
    "    \n",
    "    for iteration in range(max_iter):\n",
    "        X_new = np.zeros(n)\n",
    "        for i in range(n):\n",
    "            s = sum(A[i, j] * X[j] for j in range(n) if i != j)\n",
    "            X_new[i] = (B[i] - s) / A[i, i]\n",
    "        \n",
    "        table.append(X_new.copy())\n",
    "        \n",
    "        if np.linalg.norm(X_new - X, ord=np.inf) < tol:\n",
    "            break\n",
    "        X = X_new\n",
    "    \n",
    "    df = pd.DataFrame(table, columns=[f\"x{i+1}\" for i in range(n)], index=[f\"Iter {i+1}\" for i in range(len(table))])\n",
    "    return X_new, df"
   ]
  },
  {
   "cell_type": "code",
   "execution_count": 21,
   "metadata": {},
   "outputs": [
    {
     "name": "stdout",
     "output_type": "stream",
     "text": [
      "Задача 4: Решение методом простых итераций\n",
      "Таблица итераций:\n",
      "                x1        x2        x3\n",
      "Iter 1   0.612903  0.080000  0.790698\n",
      "Iter 2   0.110668  0.415274  0.590518\n",
      "Iter 3   0.329567  0.274862  0.679980\n",
      "Iter 4   0.234171  0.336725  0.639924\n",
      "Iter 5   0.276624  0.309445  0.657255\n",
      "Iter 6   0.258123  0.321436  0.649496\n",
      "Iter 7   0.266349  0.316149  0.652858\n",
      "Iter 8   0.262761  0.318473  0.651355\n",
      "Iter 9   0.264355  0.317448  0.652007\n",
      "Iter 10  0.263659  0.317899  0.651716\n",
      "Проверка решения (AX):\n",
      " [ 3.79808503 -0.40099345  3.39945597]\n",
      "Решение через np.linalg.solve:\n",
      " [0.06113307 0.30445323 0.71557312]\n",
      "[2.1 1.7 0.8]\n"
     ]
    }
   ],
   "source": [
    "A = np.array([\n",
    "    [2.7, 3.3, 1.3],\n",
    "    [3.5, -1.7, 2.8],\n",
    "    [4.1, 5.8, -1.7]\n",
    "])\n",
    "B = np.array([2.1, 1.7, 0.8])\n",
    "A_dif = np.array([[6.2,-1.6,4.1],\n",
    "                  [0.8, -5, 1.5],\n",
    "                  [1.3, 0.8, 4.3]])\n",
    "B_dif = np.array([3.8, -0.4, 3.4])\n",
    "X_iter, iteration_table = simple_iterations(A_dif, B_dif)\n",
    "\n",
    "print(\"Задача 4: Решение методом простых итераций\")\n",
    "print(\"Таблица итераций:\\n\", iteration_table)\n",
    "print(\"Проверка решения (AX):\\n\", np.dot(A_dif, X_iter))\n",
    "print(\"Решение через np.linalg.solve:\\n\", np.linalg.solve(A, B))\n",
    "print(np.dot(A, np.linalg.solve(A, B)))"
   ]
  },
  {
   "cell_type": "code",
   "execution_count": 10,
   "metadata": {},
   "outputs": [
    {
     "name": "stdout",
     "output_type": "stream",
     "text": [
      "Задача 5: Псевдорешение системы\n",
      "Псевдорешение X:\n",
      " [-0.28402623 -1.02866072  2.43639639]\n"
     ]
    }
   ],
   "source": [
    "# Задача 5: Найти псевдорешение системы\n",
    "A = np.array([\n",
    "        [3.1, 2.8, 1.9],\n",
    "        [1.9, 3.1, 2.1],\n",
    "        [7.5, 3.8, 4.8],\n",
    "        [3.01, -0.33, 0.11]\n",
    "    ])\n",
    "B = np.array([0.2, 2.1, 5.6, 0.13])    \n",
    "X_pseudo = np.linalg.lstsq(A, B, rcond=None)[0]\n",
    "   \n",
    "print(\"Задача 5: Псевдорешение системы\")\n",
    "print(\"Псевдорешение X:\\n\", X_pseudo)"
   ]
  }
 ],
 "metadata": {
  "kernelspec": {
   "display_name": "base",
   "language": "python",
   "name": "python3"
  },
  "language_info": {
   "codemirror_mode": {
    "name": "ipython",
    "version": 3
   },
   "file_extension": ".py",
   "mimetype": "text/x-python",
   "name": "python",
   "nbconvert_exporter": "python",
   "pygments_lexer": "ipython3",
   "version": "3.11.5"
  }
 },
 "nbformat": 4,
 "nbformat_minor": 2
}
