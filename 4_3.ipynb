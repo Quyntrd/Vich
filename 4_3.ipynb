{
 "cells": [
  {
   "cell_type": "code",
   "execution_count": 1,
   "metadata": {},
   "outputs": [],
   "source": [
    "import numpy as np\n",
    "import matplotlib.pyplot as plt\n",
    "from scipy.integrate import quad\n",
    "\n",
    "# Заданная функция\n",
    "f = lambda x: np.exp(-x) * np.cos(x)\n",
    "\n",
    "# Пределы интегрирования\n",
    "a, b = 0, 2\n",
    "\n",
    "# Производная второго порядка для оценки M\n",
    "f_double_prime = lambda x: np.exp(-x) * (np.cos(x) - 2 * np.sin(x))"
   ]
  },
  {
   "cell_type": "code",
   "execution_count": 2,
   "metadata": {},
   "outputs": [],
   "source": [
    "# Оценка M = max|f''(x)| на отрезке [a, b]\n",
    "x_values = np.linspace(a, b, 1000)\n",
    "M = max(abs(f_double_prime(x)) for x in x_values)\n",
    "\n",
    "# Заданная точность\n",
    "epsilon = 0.001"
   ]
  },
  {
   "cell_type": "code",
   "execution_count": 3,
   "metadata": {},
   "outputs": [],
   "source": [
    "# Вычисление шага h с учетом кратности 4\n",
    "h = np.sqrt(12 * epsilon / (M * (b - a)))\n",
    "h = (b - a) / (np.ceil((b - a) / h / 4) * 4)  # Корректировка h для кратности 4"
   ]
  },
  {
   "cell_type": "code",
   "execution_count": 4,
   "metadata": {},
   "outputs": [],
   "source": [
    "# Генерация узлов\n",
    "n = int((b - a) / h)\n",
    "x_nodes_h = np.linspace(a, b, n + 1)\n",
    "x_nodes_2h = np.linspace(a, b, n // 2 + 1)"
   ]
  },
  {
   "cell_type": "code",
   "execution_count": 5,
   "metadata": {},
   "outputs": [],
   "source": [
    "# Значения функции в узлах\n",
    "y_nodes_h = f(x_nodes_h)\n",
    "y_nodes_2h = f(x_nodes_2h)"
   ]
  },
  {
   "cell_type": "code",
   "execution_count": 6,
   "metadata": {},
   "outputs": [],
   "source": [
    "# Формула трапеций\n",
    "def trapezoidal_rule(h, y_nodes):\n",
    "    return h * (y_nodes[0] / 2 + np.sum(y_nodes[1:-1]) + y_nodes[-1] / 2)"
   ]
  },
  {
   "cell_type": "code",
   "execution_count": 7,
   "metadata": {},
   "outputs": [],
   "source": [
    "I_h_trapezoidal = trapezoidal_rule(h, y_nodes_h)\n",
    "I_2h_trapezoidal = trapezoidal_rule(2 * h, y_nodes_2h)"
   ]
  },
  {
   "cell_type": "code",
   "execution_count": 8,
   "metadata": {},
   "outputs": [],
   "source": [
    "# Оценка погрешности по правилу Рунге для трапеций\n",
    "delta_trapezoidal = abs(I_h_trapezoidal - I_2h_trapezoidal) / 3"
   ]
  },
  {
   "cell_type": "code",
   "execution_count": 9,
   "metadata": {},
   "outputs": [],
   "source": [
    "# Формула Симпсона\n",
    "def simpson_rule(h, y_nodes):\n",
    "    n = len(y_nodes) - 1\n",
    "    return (h / 3) * (y_nodes[0] + y_nodes[-1] + 4 * np.sum(y_nodes[1:n:2]) + 2 * np.sum(y_nodes[2:n-1:2]))"
   ]
  },
  {
   "cell_type": "code",
   "execution_count": 10,
   "metadata": {},
   "outputs": [],
   "source": [
    "I_h_simpson = simpson_rule(h, y_nodes_h)\n",
    "I_2h_simpson = simpson_rule(2 * h, y_nodes_2h)"
   ]
  },
  {
   "cell_type": "code",
   "execution_count": 11,
   "metadata": {},
   "outputs": [],
   "source": [
    "# Оценка погрешности по правилу Рунге для Симпсона\n",
    "delta_simpson = abs(I_h_simpson - I_2h_simpson) / 15\n",
    "\n",
    "# Точное значение интеграла с помощью функции Python\n",
    "I_exact, _ = quad(f, a, b)"
   ]
  },
  {
   "cell_type": "code",
   "execution_count": 12,
   "metadata": {},
   "outputs": [
    {
     "name": "stdout",
     "output_type": "stream",
     "text": [
      "Вычисленный шаг интегрирования h: 0.071429\n",
      "Интеграл по формуле трапеций (h): 0.590087\n",
      "Интеграл по формуле трапеций (2h): 0.591278\n",
      "Оценка погрешности для трапеций: 0.000397\n",
      "Интеграл по формуле Симпсона (h): 0.589689\n",
      "Интеграл по формуле Симпсона (2h): 0.589684\n",
      "Оценка погрешности для Симпсона: 0.000000\n",
      "Точное значение интеграла: 0.589690\n"
     ]
    }
   ],
   "source": [
    "# Вывод результатов\n",
    "print(f\"Вычисленный шаг интегрирования h: {h:.6f}\")\n",
    "print(f\"Интеграл по формуле трапеций (h): {I_h_trapezoidal:.6f}\")\n",
    "print(f\"Интеграл по формуле трапеций (2h): {I_2h_trapezoidal:.6f}\")\n",
    "print(f\"Оценка погрешности для трапеций: {delta_trapezoidal:.6f}\")\n",
    "print(f\"Интеграл по формуле Симпсона (h): {I_h_simpson:.6f}\")\n",
    "print(f\"Интеграл по формуле Симпсона (2h): {I_2h_simpson:.6f}\")\n",
    "print(f\"Оценка погрешности для Симпсона: {delta_simpson:.6f}\")\n",
    "print(f\"Точное значение интеграла: {I_exact:.6f}\")"
   ]
  },
  {
   "cell_type": "code",
   "execution_count": 13,
   "metadata": {},
   "outputs": [
    {
     "name": "stdout",
     "output_type": "stream",
     "text": [
      "Погрешность формулы трапеций: 0.000397\n",
      "Погрешность формулы Симпсона: 0.000000\n"
     ]
    }
   ],
   "source": [
    "# Сравнение точности\n",
    "trapezoidal_error = abs(I_h_trapezoidal - I_exact)\n",
    "simpson_error = abs(I_h_simpson - I_exact)\n",
    "print(f\"Погрешность формулы трапеций: {trapezoidal_error:.6f}\")\n",
    "print(f\"Погрешность формулы Симпсона: {simpson_error:.6f}\")"
   ]
  },
  {
   "cell_type": "code",
   "execution_count": 14,
   "metadata": {},
   "outputs": [
    {
     "name": "stdout",
     "output_type": "stream",
     "text": [
      "Формула Симпсона дала более точный результат.\n"
     ]
    }
   ],
   "source": [
    "if trapezoidal_error < simpson_error:\n",
    "    print(\"Формула трапеций дала более точный результат.\")\n",
    "else:\n",
    "    print(\"Формула Симпсона дала более точный результат.\")"
   ]
  }
 ],
 "metadata": {
  "kernelspec": {
   "display_name": "base",
   "language": "python",
   "name": "python3"
  },
  "language_info": {
   "codemirror_mode": {
    "name": "ipython",
    "version": 3
   },
   "file_extension": ".py",
   "mimetype": "text/x-python",
   "name": "python",
   "nbconvert_exporter": "python",
   "pygments_lexer": "ipython3",
   "version": "3.11.4"
  }
 },
 "nbformat": 4,
 "nbformat_minor": 2
}
