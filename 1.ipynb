{
 "cells": [
  {
   "cell_type": "code",
   "execution_count": 2,
   "metadata": {},
   "outputs": [],
   "source": [
    "import numpy as np"
   ]
  },
  {
   "cell_type": "code",
   "execution_count": 3,
   "metadata": {},
   "outputs": [
    {
     "data": {
      "text/plain": [
       "array([[2.53167117, 3.73036428, 2.64515539, 2.72671368, 2.3654165 ,\n",
       "        3.99777481, 2.52150325, 3.42809527, 2.20071404, 2.0916422 ],\n",
       "       [2.2023763 , 3.3094113 , 3.88599496, 3.01507633, 3.54803821,\n",
       "        3.09331085, 2.00267244, 3.02924845, 3.0710393 , 2.28446339],\n",
       "       [2.32881582, 2.33271707, 3.99524412, 2.31435763, 3.42230306,\n",
       "        3.78713196, 3.27240675, 3.97897492, 2.07902523, 2.28640629],\n",
       "       [3.02812733, 3.36780875, 2.29959173, 3.78239588, 2.88695236,\n",
       "        3.3904126 , 2.61187483, 2.36142731, 2.41083492, 2.60336584],\n",
       "       [2.55842691, 3.54159755, 2.03449481, 3.87756909, 2.78560206,\n",
       "        3.46797766, 2.21663439, 3.04765949, 3.09368237, 2.00709996],\n",
       "       [3.49835339, 3.95525323, 2.23202897, 3.31287833, 3.93466585,\n",
       "        2.72137496, 3.49315109, 3.35147097, 3.32211736, 3.4301768 ],\n",
       "       [2.30637316, 2.57211609, 2.81496791, 2.01031113, 2.37625117,\n",
       "        2.22690654, 3.44188589, 2.41888307, 3.60829296, 2.57990386],\n",
       "       [2.45804954, 2.57686702, 2.41633002, 2.41549471, 3.12633503,\n",
       "        3.26477463, 3.13274853, 2.08625186, 3.70551043, 3.63045254],\n",
       "       [2.59363175, 2.07662475, 3.76722631, 2.69104397, 3.67851078,\n",
       "        3.95498353, 3.89719901, 3.19506362, 3.1478073 , 3.77657978],\n",
       "       [3.97278226, 2.58131677, 3.13303272, 2.73798281, 2.54734502,\n",
       "        2.24716421, 2.47832013, 2.09997381, 3.77082585, 2.29792277]])"
      ]
     },
     "execution_count": 3,
     "metadata": {},
     "output_type": "execute_result"
    }
   ],
   "source": [
    "# 1. Создать квадратную матрицу из случайных вещественных чисел (2, 4) размера 10.\n",
    "matrix1 = np.random.uniform(2, 4, (10, 10))\n",
    "matrix1"
   ]
  },
  {
   "cell_type": "code",
   "execution_count": 4,
   "metadata": {},
   "outputs": [
    {
     "data": {
      "text/plain": [
       "(array([3.02812733, 3.36780875, 2.29959173, 3.78239588, 2.88695236,\n",
       "        3.3904126 , 2.61187483, 2.36142731, 2.41083492, 2.60336584]),\n",
       " array([2.3654165 , 3.54803821, 3.42230306, 2.88695236, 2.78560206,\n",
       "        3.93466585, 2.37625117, 3.12633503, 3.67851078, 2.54734502]))"
      ]
     },
     "execution_count": 4,
     "metadata": {},
     "output_type": "execute_result"
    }
   ],
   "source": [
    "# Найти скалярное произведение 4 строки на 5 столбец. Использовать срезы матриц.\n",
    "row_4 = matrix1[3, :]  # 4-я строка (индекс 3, т.к. индексация с 0)\n",
    "col_5 = matrix1[:, 4]  # 5-й столбец (индекс 4)\n",
    "row_4, col_5"
   ]
  },
  {
   "cell_type": "code",
   "execution_count": 5,
   "metadata": {},
   "outputs": [
    {
     "data": {
      "text/plain": [
       "88.37247095965523"
      ]
     },
     "execution_count": 5,
     "metadata": {},
     "output_type": "execute_result"
    }
   ],
   "source": [
    "scalar_product_1 = np.dot(row_4, col_5)\n",
    "scalar_product_1"
   ]
  },
  {
   "cell_type": "code",
   "execution_count": 6,
   "metadata": {},
   "outputs": [],
   "source": [
    "# 2. Создать две матрицы из случайных целых чисел [2, 7) подходящего размера.\n",
    "matrix2 = np.random.randint(2, 7, (3, 3))\n",
    "matrix3 = np.random.randint(2, 7, (3, 3))"
   ]
  },
  {
   "cell_type": "code",
   "execution_count": 7,
   "metadata": {},
   "outputs": [],
   "source": [
    "# Скалярный алгоритм умножения матриц.\n",
    "def scalar_multiplication(A, B):\n",
    "    result = np.zeros((A.shape[0], B.shape[1]))\n",
    "    for i in range(A.shape[0]):\n",
    "        for j in range(B.shape[1]):\n",
    "            for k in range(A.shape[1]):\n",
    "                result[i, j] += A[i, k] * B[k, j]\n",
    "    return result\n",
    "\n",
    "# Векторный алгоритм.\n",
    "def vector_multiplication(A, B):\n",
    "    return np.dot(A, B)"
   ]
  },
  {
   "cell_type": "code",
   "execution_count": 8,
   "metadata": {},
   "outputs": [
    {
     "name": "stdout",
     "output_type": "stream",
     "text": [
      "\n",
      "Произведение матриц (скалярный алгоритм):\n",
      " [[55. 38. 36.]\n",
      " [75. 60. 48.]\n",
      " [70. 46. 44.]]\n",
      "\n",
      "Произведение матриц (векторный алгоритм):\n",
      " [[55 38 36]\n",
      " [75 60 48]\n",
      " [70 46 44]]\n",
      "\n",
      "Произведение матриц (np.dot):\n",
      " [[55 38 36]\n",
      " [75 60 48]\n",
      " [70 46 44]]\n"
     ]
    }
   ],
   "source": [
    "result_scalar = scalar_multiplication(matrix2, matrix3)\n",
    "result_vector = vector_multiplication(matrix2, matrix3)\n",
    "result_np_dot = np.dot(matrix2, matrix3)\n",
    "\n",
    "print(\"\\nПроизведение матриц (скалярный алгоритм):\\n\", result_scalar)\n",
    "print(\"\\nПроизведение матриц (векторный алгоритм):\\n\", result_vector)\n",
    "print(\"\\nПроизведение матриц (np.dot):\\n\", result_np_dot)"
   ]
  },
  {
   "cell_type": "code",
   "execution_count": 9,
   "metadata": {},
   "outputs": [],
   "source": [
    "# 3. Создать вектор-строку 1x10 из случайных целых чисел.\n",
    "vector = np.random.randint(1, 10, 10)"
   ]
  },
  {
   "cell_type": "code",
   "execution_count": 10,
   "metadata": {},
   "outputs": [
    {
     "name": "stdout",
     "output_type": "stream",
     "text": [
      "\n",
      "Норма вектора ‖x‖2 (собственная реализация): 17.4928556845359\n",
      "Норма вектора ‖x‖2 (np.linalg.norm): 17.4928556845359\n"
     ]
    }
   ],
   "source": [
    "# Вычислить норму ‖x‖2 самостоятельно написанной функцией.\n",
    "def norm_2(vector):\n",
    "    return np.sqrt(np.sum(vector**2))\n",
    "\n",
    "norm_2_custom = norm_2(vector)\n",
    "norm_2_np = np.linalg.norm(vector)\n",
    "\n",
    "print(\"\\nНорма вектора ‖x‖2 (собственная реализация):\", norm_2_custom)\n",
    "print(\"Норма вектора ‖x‖2 (np.linalg.norm):\", norm_2_np)"
   ]
  },
  {
   "cell_type": "code",
   "execution_count": 11,
   "metadata": {},
   "outputs": [
    {
     "name": "stdout",
     "output_type": "stream",
     "text": [
      "\n",
      "Норма матрицы ‖A‖∞ (собственная реализация): 24\n",
      "Норма матрицы ‖A‖∞ (np.linalg.norm): 24.0\n"
     ]
    }
   ],
   "source": [
    "# 4. Создать матрицу из случайных целых чисел.\n",
    "matrix4 = np.random.randint(1, 10, (5, 5))\n",
    "\n",
    "# Найти норму матрицы ‖A‖∞ (максимальная сумма по строкам).\n",
    "def norm_inf(matrix):\n",
    "    return np.max(np.sum(np.abs(matrix), axis=1))\n",
    "\n",
    "norm_inf_custom = norm_inf(matrix4)\n",
    "norm_inf_np = np.linalg.norm(matrix4, ord=np.inf)\n",
    "\n",
    "print(\"\\nНорма матрицы ‖A‖∞ (собственная реализация):\", norm_inf_custom)\n",
    "print(\"Норма матрицы ‖A‖∞ (np.linalg.norm):\", norm_inf_np)"
   ]
  },
  {
   "cell_type": "code",
   "execution_count": 12,
   "metadata": {},
   "outputs": [
    {
     "name": "stdout",
     "output_type": "stream",
     "text": [
      "\n",
      "Отражение Хаусхолдера для вектора:\n",
      " [ 2  5  6  9  5 11  0  0  0  0]\n"
     ]
    }
   ],
   "source": [
    "# 5. Найти отражение Хаусхолдера для вектора, которое обнуляет его координаты с 6 по 10.\n",
    "def householder_reflection(vector):\n",
    "    v = vector[5:]  # часть вектора с 6 по 10 элемент\n",
    "    e = np.zeros_like(v)\n",
    "    e[0] = np.linalg.norm(v)\n",
    "    u = v - e\n",
    "    u = u / np.linalg.norm(u)  # нормализуем вектор\n",
    "\n",
    "    H = np.eye(len(v)) - 2 * np.outer(u, u)\n",
    "    v_new = H @ v\n",
    "    vector[5:] = v_new\n",
    "    return vector\n",
    "\n",
    "vector_reflected = householder_reflection(vector.copy())\n",
    "print(\"\\nОтражение Хаусхолдера для вектора:\\n\", vector_reflected)"
   ]
  },
  {
   "cell_type": "code",
   "execution_count": 16,
   "metadata": {},
   "outputs": [
    {
     "name": "stdout",
     "output_type": "stream",
     "text": [
      "\n",
      "LU-разложение:\n",
      "L:\n",
      " [[ 1.          0.          0.          0.          0.        ]\n",
      " [ 1.25        1.          0.          0.          0.        ]\n",
      " [ 1.75        1.5         1.          0.          0.        ]\n",
      " [ 0.25       -0.         -2.          1.          0.        ]\n",
      " [ 0.75        1.         -2.28571429  0.9025974   1.        ]]\n",
      "U:\n",
      " [[  4.           8.           6.           5.           1.        ]\n",
      " [  0.          -4.          -4.5         -1.25         0.75      ]\n",
      " [  0.           0.          -1.75        -5.875        3.125     ]\n",
      " [  0.           0.           0.         -11.           7.        ]\n",
      " [  0.           0.           0.           0.           2.32467532]]\n",
      "Проверка LU-разложения (L*U):\n",
      " [[4. 8. 6. 5. 1.]\n",
      " [5. 6. 3. 5. 2.]\n",
      " [7. 8. 2. 1. 6.]\n",
      " [1. 2. 5. 2. 1.]\n",
      " [3. 2. 4. 6. 3.]]\n",
      "[[4 8 6 5 1]\n",
      " [5 6 3 5 2]\n",
      " [7 8 2 1 6]\n",
      " [1 2 5 2 1]\n",
      " [3 2 4 6 3]]\n"
     ]
    }
   ],
   "source": [
    "# 6. LU-разложение самостоятельно написанной функцией.\n",
    "def lu_decomposition(matrix):\n",
    "    n = matrix.shape[0]\n",
    "    L = np.zeros((n, n))\n",
    "    U = np.zeros((n, n))\n",
    "\n",
    "    for i in range(n):\n",
    "        for j in range(i, n):\n",
    "            U[i, j] = matrix[i, j] - L[i, :i] @ U[:i, j]\n",
    "        L[i, i] = 1\n",
    "        for j in range(i + 1, n):\n",
    "            L[j, i] = (matrix[j, i] - L[j, :i] @ U[:i, i]) / U[i, i]\n",
    "\n",
    "    return L, U\n",
    "\n",
    "L, U = lu_decomposition(matrix4)\n",
    "LU_multiplied = np.dot(L, U)\n",
    "\n",
    "print(\"\\nLU-разложение:\")\n",
    "print(\"L:\\n\", L)\n",
    "print(\"U:\\n\", U)\n",
    "print(\"Проверка LU-разложения (L*U):\\n\", LU_multiplied)\n",
    "print(matrix4)"
   ]
  },
  {
   "cell_type": "code",
   "execution_count": 17,
   "metadata": {},
   "outputs": [
    {
     "name": "stdout",
     "output_type": "stream",
     "text": [
      "\n",
      "QR-разложение методом Грама-Шмидта:\n",
      "Q:\n",
      " [[ 0.4         0.81348157  0.10177787  0.24107902  0.33131541]\n",
      " [ 0.5        -0.08244746 -0.04213385  0.46359463 -0.72560814]\n",
      " [ 0.7        -0.22535638 -0.39288447 -0.51361499  0.20262265]\n",
      " [ 0.1         0.20337039  0.65936739 -0.60746789 -0.380602  ]\n",
      " [ 0.3        -0.48918824  0.63146056  0.30682785  0.42167416]]\n",
      "R:\n",
      " [[10.         12.6         7.          7.2         6.6       ]\n",
      " [ 0.          3.63868108  3.24293329  0.90142552 -1.96774596]\n",
      " [ 0.          0.          5.52117593  5.01283377  0.21395241]\n",
      " [ 0.          0.          0.          3.6357846  -1.60040598]\n",
      " [ 0.          0.          0.          0.          0.98025552]]\n",
      "Проверка QR-разложения (Q*R):\n",
      " [[4. 8. 6. 5. 1.]\n",
      " [5. 6. 3. 5. 2.]\n",
      " [7. 8. 2. 1. 6.]\n",
      " [1. 2. 5. 2. 1.]\n",
      " [3. 2. 4. 6. 3.]]\n",
      "\n",
      "QR-разложение (np.linalg.qr):\n",
      "Q:\n",
      " [[-0.4         0.81348157  0.10177787  0.24107902  0.33131541]\n",
      " [-0.5        -0.08244746 -0.04213385  0.46359463 -0.72560814]\n",
      " [-0.7        -0.22535638 -0.39288447 -0.51361499  0.20262265]\n",
      " [-0.1         0.20337039  0.65936739 -0.60746789 -0.380602  ]\n",
      " [-0.3        -0.48918824  0.63146056  0.30682785  0.42167416]]\n",
      "R:\n",
      " [[-10.         -12.6         -7.          -7.2         -6.6       ]\n",
      " [  0.           3.63868108   3.24293329   0.90142552  -1.96774596]\n",
      " [  0.           0.           5.52117593   5.01283377   0.21395241]\n",
      " [  0.           0.           0.           3.6357846   -1.60040598]\n",
      " [  0.           0.           0.           0.           0.98025552]]\n",
      "Проверка QR-разложения (Q*R):\n",
      " [[4. 8. 6. 5. 1.]\n",
      " [5. 6. 3. 5. 2.]\n",
      " [7. 8. 2. 1. 6.]\n",
      " [1. 2. 5. 2. 1.]\n",
      " [3. 2. 4. 6. 3.]]\n"
     ]
    }
   ],
   "source": [
    "# 7. QR-разложение всеми методами и проверка.\n",
    "# Метод Грама-Шмидта\n",
    "def qr_gram_schmidt(matrix):\n",
    "    n = matrix.shape[0]\n",
    "    Q = np.zeros_like(matrix, dtype=float)\n",
    "    R = np.zeros((n, n), dtype=float)\n",
    "\n",
    "    for j in range(n):\n",
    "        v = matrix[:, j]\n",
    "        for i in range(j):\n",
    "            R[i, j] = np.dot(Q[:, i], matrix[:, j])\n",
    "            v = v - R[i, j] * Q[:, i]\n",
    "        R[j, j] = np.linalg.norm(v)\n",
    "        Q[:, j] = v / R[j, j]\n",
    "\n",
    "    return Q, R\n",
    "\n",
    "Q_gs, R_gs = qr_gram_schmidt(matrix4)\n",
    "QR_multiplied_gs = np.dot(Q_gs, R_gs)\n",
    "\n",
    "print(\"\\nQR-разложение методом Грама-Шмидта:\")\n",
    "print(\"Q:\\n\", Q_gs)\n",
    "print(\"R:\\n\", R_gs)\n",
    "print(\"Проверка QR-разложения (Q*R):\\n\", QR_multiplied_gs)\n",
    "\n",
    "# QR-разложение через np.linalg.qr\n",
    "Q_np, R_np = np.linalg.qr(matrix4)\n",
    "QR_multiplied_np = np.dot(Q_np, R_np)\n",
    "\n",
    "print(\"\\nQR-разложение (np.linalg.qr):\")\n",
    "print(\"Q:\\n\", Q_np)\n",
    "print(\"R:\\n\", R_np)\n",
    "print(\"Проверка QR-разложения (Q*R):\\n\", QR_multiplied_np)\n"
   ]
  }
 ],
 "metadata": {
  "kernelspec": {
   "display_name": "base",
   "language": "python",
   "name": "python3"
  },
  "language_info": {
   "codemirror_mode": {
    "name": "ipython",
    "version": 3
   },
   "file_extension": ".py",
   "mimetype": "text/x-python",
   "name": "python",
   "nbconvert_exporter": "python",
   "pygments_lexer": "ipython3",
   "version": "3.11.4"
  }
 },
 "nbformat": 4,
 "nbformat_minor": 2
}
