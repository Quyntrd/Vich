{
 "cells": [
  {
   "cell_type": "code",
   "execution_count": 1,
   "metadata": {},
   "outputs": [],
   "source": [
    "import numpy as np\n",
    "import matplotlib.pyplot as plt"
   ]
  },
  {
   "cell_type": "code",
   "execution_count": 2,
   "metadata": {},
   "outputs": [],
   "source": [
    "#Таблица конечных разностей и интерполяция Ньютона\n",
    "# Данные из другой таблицы для интерполяции Ньютона\n",
    "x_newton = np.array([0.101, 0.106, 0.111, 0.116, 0.121, 0.126, 0.131, 0.136, 0.141, 0.146, 0.151])\n",
    "y_newton = np.array([1.26183, 1.27644, 1.29122, 1.306617, 1.32130, 1.33660, 1.35207, 1.36773, 1.38357, 1.39959, 1.41579])"
   ]
  },
  {
   "cell_type": "code",
   "execution_count": 3,
   "metadata": {},
   "outputs": [],
   "source": [
    "# Вычисление таблицы конечных разностей\n",
    "def finite_differences(y):\n",
    "    n = len(y)\n",
    "    table = np.zeros((n, n))\n",
    "    table[:, 0] = y\n",
    "    for j in range(1, n):\n",
    "        for i in range(n - j):\n",
    "            table[i, j] = table[i + 1, j - 1] - table[i, j - 1]\n",
    "    return table"
   ]
  },
  {
   "cell_type": "code",
   "execution_count": 4,
   "metadata": {},
   "outputs": [
    {
     "name": "stdout",
     "output_type": "stream",
     "text": [
      "Таблица конечных разностей:\n",
      "[[ 1.2618300e+00  1.4610000e-02  1.7000000e-04  4.4700000e-04\n",
      "  -1.7780000e-03  4.4400000e-03 -8.8800000e-03  1.5565000e-02\n",
      "  -2.4992000e-02  3.7698000e-02 -5.4270000e-02]\n",
      " [ 1.2764400e+00  1.4780000e-02  6.1700000e-04 -1.3310000e-03\n",
      "   2.6620000e-03 -4.4400000e-03  6.6850000e-03 -9.4270000e-03\n",
      "   1.2706000e-02 -1.6572000e-02  0.0000000e+00]\n",
      " [ 1.2912200e+00  1.5397000e-02 -7.1400000e-04  1.3310000e-03\n",
      "  -1.7780000e-03  2.2450000e-03 -2.7420000e-03  3.2790000e-03\n",
      "  -3.8660000e-03  0.0000000e+00  0.0000000e+00]\n",
      " [ 1.3066170e+00  1.4683000e-02  6.1700000e-04 -4.4700000e-04\n",
      "   4.6700000e-04 -4.9700000e-04  5.3700000e-04 -5.8700000e-04\n",
      "   0.0000000e+00  0.0000000e+00  0.0000000e+00]\n",
      " [ 1.3213000e+00  1.5300000e-02  1.7000000e-04  2.0000000e-05\n",
      "  -3.0000000e-05  4.0000000e-05 -5.0000000e-05  0.0000000e+00\n",
      "   0.0000000e+00  0.0000000e+00  0.0000000e+00]\n",
      " [ 1.3366000e+00  1.5470000e-02  1.9000000e-04 -1.0000000e-05\n",
      "   1.0000000e-05 -1.0000000e-05  0.0000000e+00  0.0000000e+00\n",
      "   0.0000000e+00  0.0000000e+00  0.0000000e+00]\n",
      " [ 1.3520700e+00  1.5660000e-02  1.8000000e-04 -4.4408921e-16\n",
      "   8.8817842e-16  0.0000000e+00  0.0000000e+00  0.0000000e+00\n",
      "   0.0000000e+00  0.0000000e+00  0.0000000e+00]\n",
      " [ 1.3677300e+00  1.5840000e-02  1.8000000e-04  4.4408921e-16\n",
      "   0.0000000e+00  0.0000000e+00  0.0000000e+00  0.0000000e+00\n",
      "   0.0000000e+00  0.0000000e+00  0.0000000e+00]\n",
      " [ 1.3835700e+00  1.6020000e-02  1.8000000e-04  0.0000000e+00\n",
      "   0.0000000e+00  0.0000000e+00  0.0000000e+00  0.0000000e+00\n",
      "   0.0000000e+00  0.0000000e+00  0.0000000e+00]\n",
      " [ 1.3995900e+00  1.6200000e-02  0.0000000e+00  0.0000000e+00\n",
      "   0.0000000e+00  0.0000000e+00  0.0000000e+00  0.0000000e+00\n",
      "   0.0000000e+00  0.0000000e+00  0.0000000e+00]\n",
      " [ 1.4157900e+00  0.0000000e+00  0.0000000e+00  0.0000000e+00\n",
      "   0.0000000e+00  0.0000000e+00  0.0000000e+00  0.0000000e+00\n",
      "   0.0000000e+00  0.0000000e+00  0.0000000e+00]]\n"
     ]
    }
   ],
   "source": [
    "# Таблица конечных разностей\n",
    "difference_table = finite_differences(y_newton)\n",
    "print(\"Таблица конечных разностей:\")\n",
    "print(difference_table)"
   ]
  },
  {
   "cell_type": "code",
   "execution_count": 5,
   "metadata": {},
   "outputs": [],
   "source": [
    "# Функция для первой интерполяционной формулы Ньютона\n",
    "def newton_forward(x, x_nodes, diff_table):\n",
    "    n = len(x_nodes)\n",
    "    h = x_nodes[1] - x_nodes[0]\n",
    "    q = (x - x_nodes[0]) / h\n",
    "    result = diff_table[0, 0]\n",
    "    q_factorial = 1\n",
    "    for i in range(1, n):\n",
    "        q_factorial *= q - (i - 1)\n",
    "        result += (q_factorial / np.math.factorial(i)) * diff_table[0, i]\n",
    "    return result\n",
    "\n",
    "# Функция для второй интерполяционной формулы Ньютона\n",
    "def newton_backward(x, x_nodes, diff_table):\n",
    "    n = len(x_nodes)\n",
    "    h = x_nodes[1] - x_nodes[0]\n",
    "    q = (x - x_nodes[-1]) / h\n",
    "    result = diff_table[-1, 0]\n",
    "    q_factorial = 1\n",
    "    for i in range(1, n):\n",
    "        q_factorial *= q + (i - 1)\n",
    "        result += (q_factorial / np.math.factorial(i)) * diff_table[n - i - 1, i]\n",
    "    return result"
   ]
  },
  {
   "cell_type": "code",
   "execution_count": 6,
   "metadata": {},
   "outputs": [],
   "source": [
    "# Значения для интерполяции\n",
    "x_test = np.array([0.1026, 0.1440, 0.099, 0.153])\n",
    "\n",
    "# Вычисление значений по формулам Ньютона\n",
    "y_forward = [newton_forward(x, x_newton, difference_table) for x in x_test]\n",
    "y_backward = [newton_backward(x, x_newton, difference_table) for x in x_test]"
   ]
  },
  {
   "cell_type": "code",
   "execution_count": 7,
   "metadata": {},
   "outputs": [
    {
     "name": "stdout",
     "output_type": "stream",
     "text": [
      "Значения по первой формуле Ньютона:\n",
      "Nf(0.1026) = 1.26877\n",
      "Nf(0.1440) = 1.39301\n",
      "Nf(0.0990) = 1.23762\n",
      "Nf(0.1530) = 1.41369\n"
     ]
    }
   ],
   "source": [
    "# Вывод результатов\n",
    "print(\"Значения по первой формуле Ньютона:\")\n",
    "for x, y in zip(x_test, y_forward):\n",
    "    print(f'Nf({x:.4f}) = {y:.5f}')"
   ]
  },
  {
   "cell_type": "code",
   "execution_count": 8,
   "metadata": {},
   "outputs": [
    {
     "name": "stdout",
     "output_type": "stream",
     "text": [
      "\n",
      "Значения по второй формуле Ньютона:\n",
      "Nb(0.1026) = 1.26877\n",
      "Nb(0.1440) = 1.39301\n",
      "Nb(0.0990) = 1.23762\n",
      "Nb(0.1530) = 1.41369\n"
     ]
    }
   ],
   "source": [
    "print(\"\\nЗначения по второй формуле Ньютона:\")\n",
    "for x, y in zip(x_test, y_backward):\n",
    "    print(f'Nb({x:.4f}) = {y:.5f}')"
   ]
  }
 ],
 "metadata": {
  "kernelspec": {
   "display_name": "base",
   "language": "python",
   "name": "python3"
  },
  "language_info": {
   "codemirror_mode": {
    "name": "ipython",
    "version": 3
   },
   "file_extension": ".py",
   "mimetype": "text/x-python",
   "name": "python",
   "nbconvert_exporter": "python",
   "pygments_lexer": "ipython3",
   "version": "3.11.4"
  }
 },
 "nbformat": 4,
 "nbformat_minor": 2
}
